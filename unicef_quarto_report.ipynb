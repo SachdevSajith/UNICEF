{
 "cells": [
  {
   "cell_type": "markdown",
   "id": "aa85de26",
   "metadata": {},
   "source": [
    "---\n",
    "title: \"The Early Childhood Nutrition Crisis: A Global Call to Action\"\n",
    "format:\n",
    "  html:\n",
    "    embed-resources: true\n",
    "    code-fold: true\n",
    "    theme: cosmo\n",
    "    toc: true\n",
    "    toc-depth: 2\n",
    "execute:\n",
    "  echo: false\n",
    "  warning: false\n",
    "  message: false\n",
    "  eval: true\n",
    "---\n"
   ]
  },
  {
   "cell_type": "markdown",
   "id": "f0fe1e78",
   "metadata": {},
   "source": [
    "## Introduction\n",
    "\n",
    "*“Hundreds of millions of young children are not getting the foods they need to thrive.”*\n",
    "\n",
    "Despite progress in reducing child mortality, diet quality remains alarmingly poor. This report explores the prevalence of **moderate food poverty** in children aged 6–23 months globally and highlights disparities across regions, genders, and income levels.\n"
   ]
  },
  {
   "cell_type": "code",
   "execution_count": null,
   "id": "c0515352",
   "metadata": {},
   "outputs": [],
   "source": [
    "import pandas as pd\n",
    "from plotnine import *\n",
    "import matplotlib.pyplot as plt\n",
    "\n",
    "# Load dataset\n",
    "df = pd.read_csv(\"unicef_cleaned_data.csv\")\n",
    "df = df[df[\"Sex\"].isin([\"Male\", \"Female\"])]\n"
   ]
  },
  {
   "cell_type": "markdown",
   "id": "9904291d",
   "metadata": {},
   "source": [
    "## Global Distribution of Child Food Poverty\n",
    "\n",
    "*A world map illustrating the average rate of moderate food poverty across countries.*\n",
    "\n",
    "> 📌 *Due to limitations in Google Colab, use `geopandas` with merged ISO country codes and `plotnine` or `folium` in local Jupyter to generate this.*\n"
   ]
  },
  {
   "cell_type": "markdown",
   "id": "5fa9ddb0",
   "metadata": {},
   "source": [
    "## Countries with the Highest Levels of Food Poverty"
   ]
  },
  {
   "cell_type": "code",
   "execution_count": null,
   "id": "94e79789",
   "metadata": {},
   "outputs": [],
   "source": [
    "top_countries = df.groupby(\"Country\")[\"Food_Poverty\"].mean().sort_values(ascending=False).head(10).reset_index()\n",
    "\n",
    "(ggplot(top_countries, aes(x='reorder(Country, Food_Poverty)', y='Food_Poverty')) +\n",
    " geom_bar(stat='identity', fill='#0072B2') +\n",
    " coord_flip() +\n",
    " labs(title='Top 10 Countries by Food Poverty', x='Country', y='Moderate Food Poverty (%)') +\n",
    " theme_minimal())"
   ]
  },
  {
   "cell_type": "markdown",
   "id": "64cf9dff",
   "metadata": {},
   "source": [
    "## Poverty vs GDP per Capita"
   ]
  },
  {
   "cell_type": "code",
   "execution_count": null,
   "id": "cce90b71",
   "metadata": {},
   "outputs": [],
   "source": [
    "(ggplot(df, aes(x='GDP_per_capita', y='Food_Poverty')) +\n",
    " geom_point(alpha=0.4) +\n",
    " geom_smooth(method='lm', color='red') +\n",
    " labs(title='Food Poverty vs. GDP per Capita', x='GDP per Capita (USD)', y='Moderate Food Poverty (%)') +\n",
    " theme_minimal())"
   ]
  },
  {
   "cell_type": "markdown",
   "id": "ed973ff2",
   "metadata": {},
   "source": [
    "## Trend of Food Poverty Over Time"
   ]
  },
  {
   "cell_type": "code",
   "execution_count": null,
   "id": "71cb2872",
   "metadata": {},
   "outputs": [],
   "source": [
    "avg_by_year = df.groupby(\"Year\")[\"Food_Poverty\"].mean().reset_index()\n",
    "\n",
    "(ggplot(avg_by_year, aes(x='Year', y='Food_Poverty')) +\n",
    " geom_line(color='blue') +\n",
    " geom_point() +\n",
    " labs(title='Global Trend of Food Poverty (2005–2022)', x='Year', y='Average Moderate Food Poverty (%)') +\n",
    " theme_minimal())"
   ]
  },
  {
   "cell_type": "markdown",
   "id": "7d03ca95",
   "metadata": {},
   "source": [
    "## Gender-Based Comparison"
   ]
  },
  {
   "cell_type": "code",
   "execution_count": null,
   "id": "6bbbce8c",
   "metadata": {},
   "outputs": [],
   "source": [
    "gender_avg = df.groupby([\"Year\", \"Sex\"])[\"Food_Poverty\"].mean().reset_index()\n",
    "\n",
    "(ggplot(gender_avg, aes(x='Year', y='Food_Poverty', color='Sex')) +\n",
    " geom_line(size=1.2) +\n",
    " labs(title='Trends in Food Poverty by Gender', x='Year', y='Moderate Food Poverty (%)') +\n",
    " theme_minimal())"
   ]
  },
  {
   "cell_type": "markdown",
   "id": "7aaee1dd",
   "metadata": {},
   "source": [
    "## Conclusion\n",
    "\n",
    "Child food poverty is a silent emergency affecting millions globally. The data shows deep disparities driven by income, geography, and access. Urgent interventions—from nutrition education to food access programs—are essential to reverse these trends and give every child a fair start in life.\n"
   ]
  }
 ],
 "metadata": {},
 "nbformat": 4,
 "nbformat_minor": 5
}
